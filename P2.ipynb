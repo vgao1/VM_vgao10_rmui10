{
 "cells": [
  {
   "cell_type": "code",
   "execution_count": 1,
   "id": "olympic-block",
   "metadata": {},
   "outputs": [],
   "source": [
    "import pandas as pd"
   ]
  },
  {
   "cell_type": "code",
   "execution_count": 2,
   "id": "seventh-southwest",
   "metadata": {},
   "outputs": [],
   "source": [
    "nums = [1, None, 7, 2, 8, 7]\n",
    "index = ['a', 'b', 'c']\n",
    "col = ['X', 'Y', 'Z']\n",
    "animals = [['puppy', 'kitten', 'mouse'], ['bunny', None, 'bird'], [None, 'fish', 'snake']]"
   ]
  },
  {
   "cell_type": "code",
   "execution_count": 3,
   "id": "recorded-example",
   "metadata": {},
   "outputs": [
    {
     "name": "stdout",
     "output_type": "stream",
     "text": [
      "--------- SERIES ---------\n",
      "0    1.0\n",
      "1    NaN\n",
      "2    7.0\n",
      "3    2.0\n",
      "4    8.0\n",
      "5    7.0\n",
      "dtype: float64\n"
     ]
    }
   ],
   "source": [
    "print('--------- SERIES ---------')\n",
    "ser = pd.Series(nums)\n",
    "print(ser)"
   ]
  },
  {
   "cell_type": "code",
   "execution_count": 4,
   "id": "danish-genetics",
   "metadata": {},
   "outputs": [
    {
     "name": "stdout",
     "output_type": "stream",
     "text": [
      "\n",
      "------- DATA FRAME -------\n",
      "       X       Y      Z\n",
      "a  puppy  kitten  mouse\n",
      "b  bunny    None   bird\n",
      "c   None    fish  snake\n"
     ]
    }
   ],
   "source": [
    "print('\\n------- DATA FRAME -------')\n",
    "df = pd.DataFrame(animals, index, col)\n",
    "print(df)"
   ]
  },
  {
   "cell_type": "code",
   "execution_count": 5,
   "id": "restricted-circumstances",
   "metadata": {},
   "outputs": [
    {
     "name": "stdout",
     "output_type": "stream",
     "text": [
      "\n",
      "--------- HEAD 2 ---------\n",
      "0    1.0\n",
      "1    NaN\n",
      "dtype: float64 \n",
      "\n",
      "       X       Y      Z\n",
      "a  puppy  kitten  mouse\n",
      "b  bunny    None   bird\n"
     ]
    }
   ],
   "source": [
    "print('\\n--------- HEAD 2 ---------')\n",
    "print(ser.head(2), '\\n');\n",
    "print(df.head(2));"
   ]
  },
  {
   "cell_type": "code",
   "execution_count": 7,
   "id": "aggressive-circle",
   "metadata": {},
   "outputs": [
    {
     "name": "stdout",
     "output_type": "stream",
     "text": [
      "\n",
      "---------- NULLS ---------\n",
      "       X      Y      Z\n",
      "a  False  False  False\n",
      "b  False   True  False\n",
      "c   True  False  False\n"
     ]
    }
   ],
   "source": [
    "print('\\n---------- NULLS ---------')\n",
    "print(df.isnull())"
   ]
  },
  {
   "cell_type": "code",
   "execution_count": 8,
   "id": "lasting-converter",
   "metadata": {},
   "outputs": [
    {
     "name": "stdout",
     "output_type": "stream",
     "text": [
      "\n",
      "-------- NO NULLS --------\n",
      "       X       Y      Z\n",
      "a  puppy  kitten  mouse\n"
     ]
    }
   ],
   "source": [
    "print('\\n-------- NO NULLS --------')\n",
    "dropNulls = df.dropna()\n",
    "print(dropNulls)"
   ]
  },
  {
   "cell_type": "code",
   "execution_count": 9,
   "id": "unsigned-springfield",
   "metadata": {},
   "outputs": [
    {
     "name": "stdout",
     "output_type": "stream",
     "text": [
      "\n",
      "------ FILLED NULLS ------\n",
      "0    1.0\n",
      "1    0.0\n",
      "2    7.0\n",
      "3    2.0\n",
      "4    8.0\n",
      "5    7.0\n",
      "dtype: float64 \n",
      "\n",
      "       X        Y      Z\n",
      "a  puppy   kitten  mouse\n",
      "b  bunny  raccoon   bird\n",
      "c  panda     fish  snake\n"
     ]
    }
   ],
   "source": [
    "print('\\n------ FILLED NULLS ------')\n",
    "filledSeries = ser.fillna(0)\n",
    "print(filledSeries, '\\n')\n",
    "filledDf = df.fillna({'X': 'panda', 'Y': 'raccoon', 'Z': 'penguin'})\n",
    "print(filledDf)"
   ]
  },
  {
   "cell_type": "code",
   "execution_count": 10,
   "id": "anonymous-maria",
   "metadata": {},
   "outputs": [
    {
     "name": "stdout",
     "output_type": "stream",
     "text": [
      "\n",
      "-------- REPLACE ---------\n",
      "0    1.0\n",
      "1    5.0\n",
      "2    7.0\n",
      "3    2.0\n",
      "4    8.0\n",
      "5    7.0\n",
      "dtype: float64 \n",
      "\n",
      "        X        Y      Z\n",
      "a     dog      cat  mouse\n",
      "b  rabbit  raccoon   bird\n",
      "c   panda     fish  snake\n"
     ]
    }
   ],
   "source": [
    "print('\\n-------- REPLACE ---------')\n",
    "replacedSeries = filledSeries.replace(0, 5)\n",
    "print(replacedSeries, '\\n')\n",
    "replacedDf = filledDf.replace({'puppy': 'dog', 'bunny': 'rabbit', 'kitten': 'cat'})\n",
    "print(replacedDf)"
   ]
  },
  {
   "cell_type": "code",
   "execution_count": 11,
   "id": "obvious-ebony",
   "metadata": {},
   "outputs": [
    {
     "name": "stdout",
     "output_type": "stream",
     "text": [
      "\n",
      "--------- RENAME ---------\n",
      "        x        y      z\n",
      "a     dog      cat  mouse\n",
      "b  rabbit  raccoon   bird\n",
      "c   panda     fish  snake \n",
      "\n",
      "        X        Y      Z\n",
      "A     dog      cat  mouse\n",
      "B  rabbit  raccoon   bird\n",
      "C   panda     fish  snake\n"
     ]
    }
   ],
   "source": [
    "print('\\n--------- RENAME ---------')\n",
    "lower = replacedDf.rename(columns=str.lower)\n",
    "print(lower, '\\n')\n",
    "upper = replacedDf.rename(index={'a': 'A', 'b': 'B', 'c': 'C'})\n",
    "print(upper)"
   ]
  },
  {
   "cell_type": "code",
   "execution_count": 12,
   "id": "tutorial-cherry",
   "metadata": {},
   "outputs": [
    {
     "name": "stdout",
     "output_type": "stream",
     "text": [
      "\n",
      "-------- ANALYSIS --------\n",
      "Series Max:  8.0 \n",
      "\n",
      "DF Shape:  (3, 3) \n",
      "\n",
      "<class 'pandas.core.frame.DataFrame'>\n",
      "Index: 3 entries, a to c\n",
      "Data columns (total 3 columns):\n",
      " #   Column  Non-Null Count  Dtype \n",
      "---  ------  --------------  ----- \n",
      " 0   X       2 non-null      object\n",
      " 1   Y       2 non-null      object\n",
      " 2   Z       3 non-null      object\n",
      "dtypes: object(3)\n",
      "memory usage: 204.0+ bytes\n",
      "DF Info:  None\n"
     ]
    }
   ],
   "source": [
    "print('\\n-------- ANALYSIS --------')\n",
    "print('Series Max: ', ser.max(), '\\n')\n",
    "print('DF Shape: ', df.shape, '\\n')\n",
    "print('DF Info: ', df.info())"
   ]
  },
  {
   "cell_type": "code",
   "execution_count": 2,
   "id": "tight-fundamentals",
   "metadata": {},
   "outputs": [
    {
     "data": {
      "text/html": [
       "<div>\n",
       "<style scoped>\n",
       "    .dataframe tbody tr th:only-of-type {\n",
       "        vertical-align: middle;\n",
       "    }\n",
       "\n",
       "    .dataframe tbody tr th {\n",
       "        vertical-align: top;\n",
       "    }\n",
       "\n",
       "    .dataframe thead th {\n",
       "        text-align: right;\n",
       "    }\n",
       "</style>\n",
       "<table border=\"1\" class=\"dataframe\">\n",
       "  <thead>\n",
       "    <tr style=\"text-align: right;\">\n",
       "      <th></th>\n",
       "      <th>Title</th>\n",
       "      <th>Genre</th>\n",
       "      <th>Rating</th>\n",
       "    </tr>\n",
       "  </thead>\n",
       "  <tbody>\n",
       "    <tr>\n",
       "      <th>0</th>\n",
       "      <td>Jiu Jitsu</td>\n",
       "      <td>Action</td>\n",
       "      <td>2.9</td>\n",
       "    </tr>\n",
       "    <tr>\n",
       "      <th>1</th>\n",
       "      <td>365 Days</td>\n",
       "      <td>Romance</td>\n",
       "      <td>3.2</td>\n",
       "    </tr>\n",
       "    <tr>\n",
       "      <th>2</th>\n",
       "      <td>Kiss the Ground</td>\n",
       "      <td>Documentary</td>\n",
       "      <td>8.3</td>\n",
       "    </tr>\n",
       "    <tr>\n",
       "      <th>3</th>\n",
       "      <td>Endless</td>\n",
       "      <td>Romance</td>\n",
       "      <td>4.7</td>\n",
       "    </tr>\n",
       "    <tr>\n",
       "      <th>4</th>\n",
       "      <td>The Binding</td>\n",
       "      <td>Horror</td>\n",
       "      <td>4.7</td>\n",
       "    </tr>\n",
       "  </tbody>\n",
       "</table>\n",
       "</div>"
      ],
      "text/plain": [
       "             Title        Genre  Rating\n",
       "0        Jiu Jitsu       Action     2.9\n",
       "1         365 Days      Romance     3.2\n",
       "2  Kiss the Ground  Documentary     8.3\n",
       "3          Endless      Romance     4.7\n",
       "4      The Binding       Horror     4.7"
      ]
     },
     "execution_count": 2,
     "metadata": {},
     "output_type": "execute_result"
    }
   ],
   "source": [
    "#import a .csv file \n",
    "movies = pd.read_csv('movies.csv')\n",
    "movies.columns = [\"Title\",\"Genre\",\"Rating\"]\n",
    "movies.head()"
   ]
  },
  {
   "cell_type": "code",
   "execution_count": 5,
   "id": "turned-journey",
   "metadata": {},
   "outputs": [
    {
     "name": "stdout",
     "output_type": "stream",
     "text": [
      "\n",
      "-------- SELECT ONE ROW using ILOC --------\n",
      "Title     365 Days\n",
      "Genre      Romance\n",
      "Rating         3.2\n",
      "Name: 1, dtype: object\n"
     ]
    }
   ],
   "source": [
    "print(\"\\n-------- SELECT ONE ROW using ILOC --------\")\n",
    "print(movies.iloc[1])"
   ]
  },
  {
   "cell_type": "code",
   "execution_count": 3,
   "id": "incorporated-basis",
   "metadata": {},
   "outputs": [
    {
     "name": "stdout",
     "output_type": "stream",
     "text": [
      "\n",
      "-------- SELECT MULTIPLE ROWS using ILOC --------\n",
      "\n",
      "Input: List of Integers\n",
      "      Title    Genre  Rating\n",
      "1  365 Days  Romance     3.2\n",
      "3   Endless  Romance     4.7\n",
      "\n",
      "Input: Slice Object\n",
      "               Title    Genre  Rating\n",
      "5  After We Collided  Romance     5.0\n",
      "6     Monster Hunter   Action     5.3\n",
      "7                Ava   Action     5.4\n",
      "8          No Escape   Horror     5.4\n",
      "9  Wonder Woman 1984   Action     5.4\n"
     ]
    }
   ],
   "source": [
    "print(\"\\n-------- SELECT MULTIPLE ROWS using ILOC --------\")\n",
    "print(\"\\nInput: List of Integers\")\n",
    "print(movies.iloc[[1,3]])\n",
    "\n",
    "print(\"\\nInput: Slice Object\")\n",
    "print(movies.iloc[5:10])"
   ]
  },
  {
   "cell_type": "code",
   "execution_count": 5,
   "id": "ecological-shepherd",
   "metadata": {},
   "outputs": [
    {
     "name": "stdout",
     "output_type": "stream",
     "text": [
      "\n",
      "-------- ILOC with 2 INPUTS--------\n",
      "Row at index 5\n",
      "Title     After We Collided\n",
      "Genre               Romance\n",
      "Rating                  5.0\n",
      "Name: 5, dtype: object\n",
      "\n",
      "Input: 2 Integers\n",
      "5.0\n"
     ]
    }
   ],
   "source": [
    "print(\"\\n-------- ILOC with 2 INPUTS--------\")\n",
    "print(\"\\nInput: 2 Integers\")\n",
    "print(movies.iloc[5,2])"
   ]
  },
  {
   "cell_type": "code",
   "execution_count": 7,
   "id": "governmental-fabric",
   "metadata": {},
   "outputs": [
    {
     "data": {
      "text/plain": [
       "0    2.9\n",
       "1    3.2\n",
       "2    8.3\n",
       "3    4.7\n",
       "4    4.7\n",
       "Name: Rating, dtype: float64"
      ]
     },
     "execution_count": 7,
     "metadata": {},
     "output_type": "execute_result"
    }
   ],
   "source": [
    "movies[\"Rating\"].head()"
   ]
  },
  {
   "cell_type": "code",
   "execution_count": 8,
   "id": "personal-timothy",
   "metadata": {},
   "outputs": [],
   "source": [
    "movies.insert(3,\"Release Year\", 2020)"
   ]
  },
  {
   "cell_type": "code",
   "execution_count": 9,
   "id": "alleged-hungary",
   "metadata": {},
   "outputs": [
    {
     "data": {
      "text/html": [
       "<div>\n",
       "<style scoped>\n",
       "    .dataframe tbody tr th:only-of-type {\n",
       "        vertical-align: middle;\n",
       "    }\n",
       "\n",
       "    .dataframe tbody tr th {\n",
       "        vertical-align: top;\n",
       "    }\n",
       "\n",
       "    .dataframe thead th {\n",
       "        text-align: right;\n",
       "    }\n",
       "</style>\n",
       "<table border=\"1\" class=\"dataframe\">\n",
       "  <thead>\n",
       "    <tr style=\"text-align: right;\">\n",
       "      <th></th>\n",
       "      <th>Title</th>\n",
       "      <th>Genre</th>\n",
       "      <th>Rating</th>\n",
       "      <th>Release Year</th>\n",
       "    </tr>\n",
       "  </thead>\n",
       "  <tbody>\n",
       "    <tr>\n",
       "      <th>0</th>\n",
       "      <td>Jiu Jitsu</td>\n",
       "      <td>Action</td>\n",
       "      <td>2.9</td>\n",
       "      <td>2020</td>\n",
       "    </tr>\n",
       "    <tr>\n",
       "      <th>1</th>\n",
       "      <td>365 Days</td>\n",
       "      <td>Romance</td>\n",
       "      <td>3.2</td>\n",
       "      <td>2020</td>\n",
       "    </tr>\n",
       "    <tr>\n",
       "      <th>2</th>\n",
       "      <td>Kiss the Ground</td>\n",
       "      <td>Documentary</td>\n",
       "      <td>8.3</td>\n",
       "      <td>2020</td>\n",
       "    </tr>\n",
       "    <tr>\n",
       "      <th>3</th>\n",
       "      <td>Endless</td>\n",
       "      <td>Romance</td>\n",
       "      <td>4.7</td>\n",
       "      <td>2020</td>\n",
       "    </tr>\n",
       "    <tr>\n",
       "      <th>4</th>\n",
       "      <td>The Binding</td>\n",
       "      <td>Horror</td>\n",
       "      <td>4.7</td>\n",
       "      <td>2020</td>\n",
       "    </tr>\n",
       "  </tbody>\n",
       "</table>\n",
       "</div>"
      ],
      "text/plain": [
       "             Title        Genre  Rating  Release Year\n",
       "0        Jiu Jitsu       Action     2.9          2020\n",
       "1         365 Days      Romance     3.2          2020\n",
       "2  Kiss the Ground  Documentary     8.3          2020\n",
       "3          Endless      Romance     4.7          2020\n",
       "4      The Binding       Horror     4.7          2020"
      ]
     },
     "execution_count": 9,
     "metadata": {},
     "output_type": "execute_result"
    }
   ],
   "source": [
    "movies.head()"
   ]
  },
  {
   "cell_type": "code",
   "execution_count": 10,
   "id": "forbidden-surname",
   "metadata": {},
   "outputs": [
    {
     "data": {
      "text/html": [
       "<div>\n",
       "<style scoped>\n",
       "    .dataframe tbody tr th:only-of-type {\n",
       "        vertical-align: middle;\n",
       "    }\n",
       "\n",
       "    .dataframe tbody tr th {\n",
       "        vertical-align: top;\n",
       "    }\n",
       "\n",
       "    .dataframe thead th {\n",
       "        text-align: right;\n",
       "    }\n",
       "</style>\n",
       "<table border=\"1\" class=\"dataframe\">\n",
       "  <thead>\n",
       "    <tr style=\"text-align: right;\">\n",
       "      <th></th>\n",
       "      <th>Title</th>\n",
       "      <th>Genre</th>\n",
       "      <th>Rating</th>\n",
       "    </tr>\n",
       "  </thead>\n",
       "  <tbody>\n",
       "    <tr>\n",
       "      <th>0</th>\n",
       "      <td>Jiu Jitsu</td>\n",
       "      <td>Action</td>\n",
       "      <td>2.9</td>\n",
       "    </tr>\n",
       "    <tr>\n",
       "      <th>1</th>\n",
       "      <td>365 Days</td>\n",
       "      <td>Romance</td>\n",
       "      <td>3.2</td>\n",
       "    </tr>\n",
       "    <tr>\n",
       "      <th>2</th>\n",
       "      <td>Kiss the Ground</td>\n",
       "      <td>Documentary</td>\n",
       "      <td>8.3</td>\n",
       "    </tr>\n",
       "    <tr>\n",
       "      <th>3</th>\n",
       "      <td>Endless</td>\n",
       "      <td>Romance</td>\n",
       "      <td>4.7</td>\n",
       "    </tr>\n",
       "    <tr>\n",
       "      <th>4</th>\n",
       "      <td>The Binding</td>\n",
       "      <td>Horror</td>\n",
       "      <td>4.7</td>\n",
       "    </tr>\n",
       "    <tr>\n",
       "      <th>5</th>\n",
       "      <td>After We Collided</td>\n",
       "      <td>Romance</td>\n",
       "      <td>5.0</td>\n",
       "    </tr>\n",
       "    <tr>\n",
       "      <th>6</th>\n",
       "      <td>Monster Hunter</td>\n",
       "      <td>Action</td>\n",
       "      <td>5.3</td>\n",
       "    </tr>\n",
       "    <tr>\n",
       "      <th>7</th>\n",
       "      <td>Ava</td>\n",
       "      <td>Action</td>\n",
       "      <td>5.4</td>\n",
       "    </tr>\n",
       "    <tr>\n",
       "      <th>8</th>\n",
       "      <td>No Escape</td>\n",
       "      <td>Horror</td>\n",
       "      <td>5.4</td>\n",
       "    </tr>\n",
       "    <tr>\n",
       "      <th>9</th>\n",
       "      <td>Wonder Woman 1984</td>\n",
       "      <td>Action</td>\n",
       "      <td>5.4</td>\n",
       "    </tr>\n",
       "    <tr>\n",
       "      <th>10</th>\n",
       "      <td>Antebellum</td>\n",
       "      <td>Horror</td>\n",
       "      <td>5.7</td>\n",
       "    </tr>\n",
       "    <tr>\n",
       "      <th>11</th>\n",
       "      <td>Come Play</td>\n",
       "      <td>Horror</td>\n",
       "      <td>5.7</td>\n",
       "    </tr>\n",
       "    <tr>\n",
       "      <th>12</th>\n",
       "      <td>Nocturne</td>\n",
       "      <td>Horror</td>\n",
       "      <td>5.7</td>\n",
       "    </tr>\n",
       "    <tr>\n",
       "      <th>13</th>\n",
       "      <td>The Empty Man</td>\n",
       "      <td>Horror</td>\n",
       "      <td>5.7</td>\n",
       "    </tr>\n",
       "    <tr>\n",
       "      <th>14</th>\n",
       "      <td>The Rental</td>\n",
       "      <td>Horror</td>\n",
       "      <td>5.7</td>\n",
       "    </tr>\n",
       "    <tr>\n",
       "      <th>15</th>\n",
       "      <td>Mortal</td>\n",
       "      <td>Action</td>\n",
       "      <td>5.9</td>\n",
       "    </tr>\n",
       "    <tr>\n",
       "      <th>16</th>\n",
       "      <td>I Am Greta</td>\n",
       "      <td>Documentary</td>\n",
       "      <td>6.1</td>\n",
       "    </tr>\n",
       "    <tr>\n",
       "      <th>17</th>\n",
       "      <td>The Dark and the Wicked</td>\n",
       "      <td>Horror</td>\n",
       "      <td>6.1</td>\n",
       "    </tr>\n",
       "    <tr>\n",
       "      <th>18</th>\n",
       "      <td>All My Life</td>\n",
       "      <td>Romance</td>\n",
       "      <td>6.2</td>\n",
       "    </tr>\n",
       "    <tr>\n",
       "      <th>19</th>\n",
       "      <td>Black Box</td>\n",
       "      <td>Horror</td>\n",
       "      <td>6.2</td>\n",
       "    </tr>\n",
       "    <tr>\n",
       "      <th>20</th>\n",
       "      <td>Chemical Hearts</td>\n",
       "      <td>Romance</td>\n",
       "      <td>6.2</td>\n",
       "    </tr>\n",
       "    <tr>\n",
       "      <th>21</th>\n",
       "      <td>Greenland</td>\n",
       "      <td>Action</td>\n",
       "      <td>6.4</td>\n",
       "    </tr>\n",
       "    <tr>\n",
       "      <th>22</th>\n",
       "      <td>The Secret: Dare to Dream</td>\n",
       "      <td>Romance</td>\n",
       "      <td>6.4</td>\n",
       "    </tr>\n",
       "    <tr>\n",
       "      <th>23</th>\n",
       "      <td>All the Bright Places</td>\n",
       "      <td>Romance</td>\n",
       "      <td>6.5</td>\n",
       "    </tr>\n",
       "    <tr>\n",
       "      <th>24</th>\n",
       "      <td>I Still Believe</td>\n",
       "      <td>Romance</td>\n",
       "      <td>6.5</td>\n",
       "    </tr>\n",
       "    <tr>\n",
       "      <th>25</th>\n",
       "      <td>I'm Thinking of Ending Things</td>\n",
       "      <td>Horror</td>\n",
       "      <td>6.6</td>\n",
       "    </tr>\n",
       "    <tr>\n",
       "      <th>26</th>\n",
       "      <td>Extraction</td>\n",
       "      <td>Action</td>\n",
       "      <td>6.7</td>\n",
       "    </tr>\n",
       "    <tr>\n",
       "      <th>27</th>\n",
       "      <td>Greyhound</td>\n",
       "      <td>Action</td>\n",
       "      <td>7.0</td>\n",
       "    </tr>\n",
       "    <tr>\n",
       "      <th>28</th>\n",
       "      <td>Love and Monsters</td>\n",
       "      <td>Romance</td>\n",
       "      <td>7.0</td>\n",
       "    </tr>\n",
       "    <tr>\n",
       "      <th>29</th>\n",
       "      <td>MLK/FBI</td>\n",
       "      <td>Documentary</td>\n",
       "      <td>7.0</td>\n",
       "    </tr>\n",
       "    <tr>\n",
       "      <th>30</th>\n",
       "      <td>The Eight Hundred</td>\n",
       "      <td>Action</td>\n",
       "      <td>7.0</td>\n",
       "    </tr>\n",
       "    <tr>\n",
       "      <th>31</th>\n",
       "      <td>Words on Bathroom Walls</td>\n",
       "      <td>Romance</td>\n",
       "      <td>7.0</td>\n",
       "    </tr>\n",
       "    <tr>\n",
       "      <th>32</th>\n",
       "      <td>Some Kind of Heaven</td>\n",
       "      <td>Documentary</td>\n",
       "      <td>7.3</td>\n",
       "    </tr>\n",
       "    <tr>\n",
       "      <th>33</th>\n",
       "      <td>Tenet</td>\n",
       "      <td>Action</td>\n",
       "      <td>7.5</td>\n",
       "    </tr>\n",
       "    <tr>\n",
       "      <th>34</th>\n",
       "      <td>The UFO Phenomenon</td>\n",
       "      <td>Documentary</td>\n",
       "      <td>7.5</td>\n",
       "    </tr>\n",
       "    <tr>\n",
       "      <th>35</th>\n",
       "      <td>The Social Dilemma</td>\n",
       "      <td>Documentary</td>\n",
       "      <td>7.6</td>\n",
       "    </tr>\n",
       "    <tr>\n",
       "      <th>36</th>\n",
       "      <td>Zappa</td>\n",
       "      <td>Documentary</td>\n",
       "      <td>7.6</td>\n",
       "    </tr>\n",
       "    <tr>\n",
       "      <th>37</th>\n",
       "      <td>Crip Camp</td>\n",
       "      <td>Documentary</td>\n",
       "      <td>7.8</td>\n",
       "    </tr>\n",
       "    <tr>\n",
       "      <th>38</th>\n",
       "      <td>The Dissident</td>\n",
       "      <td>Documentary</td>\n",
       "      <td>8.1</td>\n",
       "    </tr>\n",
       "    <tr>\n",
       "      <th>39</th>\n",
       "      <td>Disclosure</td>\n",
       "      <td>Documentary</td>\n",
       "      <td>8.2</td>\n",
       "    </tr>\n",
       "  </tbody>\n",
       "</table>\n",
       "</div>"
      ],
      "text/plain": [
       "                            Title        Genre  Rating\n",
       "0                       Jiu Jitsu       Action     2.9\n",
       "1                        365 Days      Romance     3.2\n",
       "2                 Kiss the Ground  Documentary     8.3\n",
       "3                         Endless      Romance     4.7\n",
       "4                     The Binding       Horror     4.7\n",
       "5               After We Collided      Romance     5.0\n",
       "6                  Monster Hunter       Action     5.3\n",
       "7                             Ava       Action     5.4\n",
       "8                       No Escape       Horror     5.4\n",
       "9               Wonder Woman 1984       Action     5.4\n",
       "10                     Antebellum       Horror     5.7\n",
       "11                      Come Play       Horror     5.7\n",
       "12                       Nocturne       Horror     5.7\n",
       "13                  The Empty Man       Horror     5.7\n",
       "14                     The Rental       Horror     5.7\n",
       "15                         Mortal       Action     5.9\n",
       "16                     I Am Greta  Documentary     6.1\n",
       "17        The Dark and the Wicked       Horror     6.1\n",
       "18                    All My Life      Romance     6.2\n",
       "19                      Black Box       Horror     6.2\n",
       "20                Chemical Hearts      Romance     6.2\n",
       "21                      Greenland       Action     6.4\n",
       "22      The Secret: Dare to Dream      Romance     6.4\n",
       "23          All the Bright Places      Romance     6.5\n",
       "24                I Still Believe      Romance     6.5\n",
       "25  I'm Thinking of Ending Things       Horror     6.6\n",
       "26                     Extraction       Action     6.7\n",
       "27                      Greyhound       Action     7.0\n",
       "28              Love and Monsters      Romance     7.0\n",
       "29                        MLK/FBI  Documentary     7.0\n",
       "30              The Eight Hundred       Action     7.0\n",
       "31        Words on Bathroom Walls      Romance     7.0\n",
       "32            Some Kind of Heaven  Documentary     7.3\n",
       "33                          Tenet       Action     7.5\n",
       "34             The UFO Phenomenon  Documentary     7.5\n",
       "35             The Social Dilemma  Documentary     7.6\n",
       "36                          Zappa  Documentary     7.6\n",
       "37                      Crip Camp  Documentary     7.8\n",
       "38                  The Dissident  Documentary     8.1\n",
       "39                     Disclosure  Documentary     8.2"
      ]
     },
     "execution_count": 10,
     "metadata": {},
     "output_type": "execute_result"
    }
   ],
   "source": [
    "movies.drop(columns=\"Release Year\")"
   ]
  },
  {
   "cell_type": "code",
   "execution_count": 40,
   "id": "piano-relationship",
   "metadata": {},
   "outputs": [
    {
     "name": "stdout",
     "output_type": "stream",
     "text": [
      "\n",
      "Filtering with Boolean expressions\n"
     ]
    },
    {
     "data": {
      "text/html": [
       "<div>\n",
       "<style scoped>\n",
       "    .dataframe tbody tr th:only-of-type {\n",
       "        vertical-align: middle;\n",
       "    }\n",
       "\n",
       "    .dataframe tbody tr th {\n",
       "        vertical-align: top;\n",
       "    }\n",
       "\n",
       "    .dataframe thead th {\n",
       "        text-align: right;\n",
       "    }\n",
       "</style>\n",
       "<table border=\"1\" class=\"dataframe\">\n",
       "  <thead>\n",
       "    <tr style=\"text-align: right;\">\n",
       "      <th></th>\n",
       "      <th>Title</th>\n",
       "      <th>Genre</th>\n",
       "      <th>Rating</th>\n",
       "    </tr>\n",
       "  </thead>\n",
       "  <tbody>\n",
       "    <tr>\n",
       "      <th>2</th>\n",
       "      <td>Kiss the Ground</td>\n",
       "      <td>Documentary</td>\n",
       "      <td>8.3</td>\n",
       "    </tr>\n",
       "    <tr>\n",
       "      <th>16</th>\n",
       "      <td>I Am Greta</td>\n",
       "      <td>Documentary</td>\n",
       "      <td>6.1</td>\n",
       "    </tr>\n",
       "    <tr>\n",
       "      <th>17</th>\n",
       "      <td>The Dark and the Wicked</td>\n",
       "      <td>Horror</td>\n",
       "      <td>6.1</td>\n",
       "    </tr>\n",
       "    <tr>\n",
       "      <th>18</th>\n",
       "      <td>All My Life</td>\n",
       "      <td>Romance</td>\n",
       "      <td>6.2</td>\n",
       "    </tr>\n",
       "    <tr>\n",
       "      <th>19</th>\n",
       "      <td>Black Box</td>\n",
       "      <td>Horror</td>\n",
       "      <td>6.2</td>\n",
       "    </tr>\n",
       "    <tr>\n",
       "      <th>20</th>\n",
       "      <td>Chemical Hearts</td>\n",
       "      <td>Romance</td>\n",
       "      <td>6.2</td>\n",
       "    </tr>\n",
       "    <tr>\n",
       "      <th>21</th>\n",
       "      <td>Greenland</td>\n",
       "      <td>Action</td>\n",
       "      <td>6.4</td>\n",
       "    </tr>\n",
       "    <tr>\n",
       "      <th>22</th>\n",
       "      <td>The Secret: Dare to Dream</td>\n",
       "      <td>Romance</td>\n",
       "      <td>6.4</td>\n",
       "    </tr>\n",
       "    <tr>\n",
       "      <th>23</th>\n",
       "      <td>All the Bright Places</td>\n",
       "      <td>Romance</td>\n",
       "      <td>6.5</td>\n",
       "    </tr>\n",
       "    <tr>\n",
       "      <th>24</th>\n",
       "      <td>I Still Believe</td>\n",
       "      <td>Romance</td>\n",
       "      <td>6.5</td>\n",
       "    </tr>\n",
       "    <tr>\n",
       "      <th>25</th>\n",
       "      <td>I'm Thinking of Ending Things</td>\n",
       "      <td>Horror</td>\n",
       "      <td>6.6</td>\n",
       "    </tr>\n",
       "    <tr>\n",
       "      <th>26</th>\n",
       "      <td>Extraction</td>\n",
       "      <td>Action</td>\n",
       "      <td>6.7</td>\n",
       "    </tr>\n",
       "    <tr>\n",
       "      <th>27</th>\n",
       "      <td>Greyhound</td>\n",
       "      <td>Action</td>\n",
       "      <td>7.0</td>\n",
       "    </tr>\n",
       "    <tr>\n",
       "      <th>28</th>\n",
       "      <td>Love and Monsters</td>\n",
       "      <td>Romance</td>\n",
       "      <td>7.0</td>\n",
       "    </tr>\n",
       "    <tr>\n",
       "      <th>29</th>\n",
       "      <td>MLK/FBI</td>\n",
       "      <td>Documentary</td>\n",
       "      <td>7.0</td>\n",
       "    </tr>\n",
       "    <tr>\n",
       "      <th>30</th>\n",
       "      <td>The Eight Hundred</td>\n",
       "      <td>Action</td>\n",
       "      <td>7.0</td>\n",
       "    </tr>\n",
       "    <tr>\n",
       "      <th>31</th>\n",
       "      <td>Words on Bathroom Walls</td>\n",
       "      <td>Romance</td>\n",
       "      <td>7.0</td>\n",
       "    </tr>\n",
       "    <tr>\n",
       "      <th>32</th>\n",
       "      <td>Some Kind of Heaven</td>\n",
       "      <td>Documentary</td>\n",
       "      <td>7.3</td>\n",
       "    </tr>\n",
       "    <tr>\n",
       "      <th>33</th>\n",
       "      <td>Tenet</td>\n",
       "      <td>Action</td>\n",
       "      <td>7.5</td>\n",
       "    </tr>\n",
       "    <tr>\n",
       "      <th>34</th>\n",
       "      <td>The UFO Phenomenon</td>\n",
       "      <td>Documentary</td>\n",
       "      <td>7.5</td>\n",
       "    </tr>\n",
       "    <tr>\n",
       "      <th>35</th>\n",
       "      <td>The Social Dilemma</td>\n",
       "      <td>Documentary</td>\n",
       "      <td>7.6</td>\n",
       "    </tr>\n",
       "    <tr>\n",
       "      <th>36</th>\n",
       "      <td>Zappa</td>\n",
       "      <td>Documentary</td>\n",
       "      <td>7.6</td>\n",
       "    </tr>\n",
       "    <tr>\n",
       "      <th>37</th>\n",
       "      <td>Crip Camp</td>\n",
       "      <td>Documentary</td>\n",
       "      <td>7.8</td>\n",
       "    </tr>\n",
       "    <tr>\n",
       "      <th>38</th>\n",
       "      <td>The Dissident</td>\n",
       "      <td>Documentary</td>\n",
       "      <td>8.1</td>\n",
       "    </tr>\n",
       "    <tr>\n",
       "      <th>39</th>\n",
       "      <td>Disclosure</td>\n",
       "      <td>Documentary</td>\n",
       "      <td>8.2</td>\n",
       "    </tr>\n",
       "  </tbody>\n",
       "</table>\n",
       "</div>"
      ],
      "text/plain": [
       "                            Title        Genre  Rating\n",
       "2                 Kiss the Ground  Documentary     8.3\n",
       "16                     I Am Greta  Documentary     6.1\n",
       "17        The Dark and the Wicked       Horror     6.1\n",
       "18                    All My Life      Romance     6.2\n",
       "19                      Black Box       Horror     6.2\n",
       "20                Chemical Hearts      Romance     6.2\n",
       "21                      Greenland       Action     6.4\n",
       "22      The Secret: Dare to Dream      Romance     6.4\n",
       "23          All the Bright Places      Romance     6.5\n",
       "24                I Still Believe      Romance     6.5\n",
       "25  I'm Thinking of Ending Things       Horror     6.6\n",
       "26                     Extraction       Action     6.7\n",
       "27                      Greyhound       Action     7.0\n",
       "28              Love and Monsters      Romance     7.0\n",
       "29                        MLK/FBI  Documentary     7.0\n",
       "30              The Eight Hundred       Action     7.0\n",
       "31        Words on Bathroom Walls      Romance     7.0\n",
       "32            Some Kind of Heaven  Documentary     7.3\n",
       "33                          Tenet       Action     7.5\n",
       "34             The UFO Phenomenon  Documentary     7.5\n",
       "35             The Social Dilemma  Documentary     7.6\n",
       "36                          Zappa  Documentary     7.6\n",
       "37                      Crip Camp  Documentary     7.8\n",
       "38                  The Dissident  Documentary     8.1\n",
       "39                     Disclosure  Documentary     8.2"
      ]
     },
     "execution_count": 40,
     "metadata": {},
     "output_type": "execute_result"
    }
   ],
   "source": [
    "print(\"\\nFiltering with Boolean expressions\")\n",
    "movies[movies[\"Rating\"] > 6]"
   ]
  },
  {
   "cell_type": "code",
   "execution_count": 12,
   "id": "broken-tucson",
   "metadata": {},
   "outputs": [
    {
     "name": "stdout",
     "output_type": "stream",
     "text": [
      "\n",
      "-------- Group By Genre--------\n"
     ]
    },
    {
     "data": {
      "text/plain": [
       "dict_keys(['Action', 'Documentary', 'Horror', 'Romance'])"
      ]
     },
     "execution_count": 12,
     "metadata": {},
     "output_type": "execute_result"
    }
   ],
   "source": [
    "print(\"\\n-------- Group By Genre--------\")\n",
    "genre_group = movies.groupby(\"Genre\")\n",
    "genre_group.groups.keys()"
   ]
  },
  {
   "cell_type": "code",
   "execution_count": 13,
   "id": "operational-trailer",
   "metadata": {},
   "outputs": [
    {
     "name": "stdout",
     "output_type": "stream",
     "text": [
      "\n",
      "Find highest rating for each genre\n"
     ]
    },
    {
     "data": {
      "text/html": [
       "<div>\n",
       "<style scoped>\n",
       "    .dataframe tbody tr th:only-of-type {\n",
       "        vertical-align: middle;\n",
       "    }\n",
       "\n",
       "    .dataframe tbody tr th {\n",
       "        vertical-align: top;\n",
       "    }\n",
       "\n",
       "    .dataframe thead tr th {\n",
       "        text-align: left;\n",
       "    }\n",
       "\n",
       "    .dataframe thead tr:last-of-type th {\n",
       "        text-align: right;\n",
       "    }\n",
       "</style>\n",
       "<table border=\"1\" class=\"dataframe\">\n",
       "  <thead>\n",
       "    <tr>\n",
       "      <th></th>\n",
       "      <th colspan=\"2\" halign=\"left\">Rating</th>\n",
       "    </tr>\n",
       "    <tr>\n",
       "      <th></th>\n",
       "      <th>max</th>\n",
       "      <th>mean</th>\n",
       "    </tr>\n",
       "    <tr>\n",
       "      <th>Genre</th>\n",
       "      <th></th>\n",
       "      <th></th>\n",
       "    </tr>\n",
       "  </thead>\n",
       "  <tbody>\n",
       "    <tr>\n",
       "      <th>Action</th>\n",
       "      <td>7.5</td>\n",
       "      <td>5.95</td>\n",
       "    </tr>\n",
       "    <tr>\n",
       "      <th>Documentary</th>\n",
       "      <td>8.3</td>\n",
       "      <td>7.55</td>\n",
       "    </tr>\n",
       "    <tr>\n",
       "      <th>Horror</th>\n",
       "      <td>6.6</td>\n",
       "      <td>5.75</td>\n",
       "    </tr>\n",
       "    <tr>\n",
       "      <th>Romance</th>\n",
       "      <td>7.0</td>\n",
       "      <td>5.87</td>\n",
       "    </tr>\n",
       "  </tbody>\n",
       "</table>\n",
       "</div>"
      ],
      "text/plain": [
       "            Rating      \n",
       "               max  mean\n",
       "Genre                   \n",
       "Action         7.5  5.95\n",
       "Documentary    8.3  7.55\n",
       "Horror         6.6  5.75\n",
       "Romance        7.0  5.87"
      ]
     },
     "execution_count": 13,
     "metadata": {},
     "output_type": "execute_result"
    }
   ],
   "source": [
    "print(\"\\nFind highest rating for each genre\")\n",
    "genre_group.agg({'Rating':['max','mean']})"
   ]
  },
  {
   "cell_type": "code",
   "execution_count": 41,
   "id": "least-modification",
   "metadata": {},
   "outputs": [
    {
     "data": {
      "text/plain": [
       "Text(0, 0.5, 'Avg Rating')"
      ]
     },
     "execution_count": 41,
     "metadata": {},
     "output_type": "execute_result"
    },
    {
     "data": {
      "image/png": "[encoded data removed]",
      "text/plain": [
       "<Figure size 432x288 with 1 Axes>"
      ]
     },
     "metadata": {
      "needs_background": "light"
     },
     "output_type": "display_data"
    }
   ],
   "source": [
    "graph = genre_group[\"Rating\"].mean().plot(kind='bar')\n",
    "graph.set_ylabel(\"Avg Rating\")"
   ]
  }
 ],
 "metadata": {
  "kernelspec": {
   "display_name": "Python 3",
   "language": "python",
   "name": "python3"
  },
  "language_info": {
   "codemirror_mode": {
    "name": "ipython",
    "version": 3
   },
   "file_extension": ".py",
   "mimetype": "text/x-python",
   "name": "python",
   "nbconvert_exporter": "python",
   "pygments_lexer": "ipython3",
   "version": "3.9.1"
  }
 },
 "nbformat": 4,
 "nbformat_minor": 5
}
